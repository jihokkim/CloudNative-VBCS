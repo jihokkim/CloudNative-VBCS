{
  "nbformat": 4,
  "nbformat_minor": 0,
  "metadata": {
    "colab": {
      "name": "Untitled0.ipynb",
      "provenance": [],
      "collapsed_sections": [],
      "include_colab_link": true
    },
    "kernelspec": {
      "name": "python3",
      "display_name": "Python 3"
    }
  },
  "cells": [
    {
      "cell_type": "markdown",
      "metadata": {
        "id": "view-in-github",
        "colab_type": "text"
      },
      "source": [
        "<a href=\"https://colab.research.google.com/github/jihokkim/CloudNative-VBCS/blob/master/Untitled0.ipynb\" target=\"_parent\"><img src=\"https://colab.research.google.com/assets/colab-badge.svg\" alt=\"Open In Colab\"/></a>"
      ]
    },
    {
      "cell_type": "code",
      "metadata": {
        "id": "uf8m7MuuB61j",
        "colab_type": "code",
        "outputId": "cab7e242-b97e-44e9-a209-ef998170e67c",
        "colab": {
          "base_uri": "https://localhost:8080/",
          "height": 255
        }
      },
      "source": [
        "!cat /etc/issue.net\n",
        "!head /proc/cpuinfo\n",
        "!head -n 3 /proc/meminfo"
      ],
      "execution_count": 1,
      "outputs": [
        {
          "output_type": "stream",
          "text": [
            "Ubuntu 18.04.3 LTS\n",
            "processor\t: 0\n",
            "vendor_id\t: GenuineIntel\n",
            "cpu family\t: 6\n",
            "model\t\t: 79\n",
            "model name\t: Intel(R) Xeon(R) CPU @ 2.20GHz\n",
            "stepping\t: 0\n",
            "microcode\t: 0x1\n",
            "cpu MHz\t\t: 2200.000\n",
            "cache size\t: 56320 KB\n",
            "physical id\t: 0\n",
            "MemTotal:       13335192 kB\n",
            "MemFree:        11074520 kB\n",
            "MemAvailable:   12532060 kB\n"
          ],
          "name": "stdout"
        }
      ]
    },
    {
      "cell_type": "code",
      "metadata": {
        "id": "LQueWyZXUFqm",
        "colab_type": "code",
        "outputId": "6d6d352e-c656-4b12-9eb0-b3b1c73d3b51",
        "colab": {
          "base_uri": "https://localhost:8080/",
          "height": 51
        }
      },
      "source": [
        "!nvidia-smi"
      ],
      "execution_count": 0,
      "outputs": [
        {
          "output_type": "stream",
          "text": [
            "NVIDIA-SMI has failed because it couldn't communicate with the NVIDIA driver. Make sure that the latest NVIDIA driver is installed and running.\n",
            "\n"
          ],
          "name": "stdout"
        }
      ]
    },
    {
      "cell_type": "code",
      "metadata": {
        "id": "znvnGF2kCdcj",
        "colab_type": "code",
        "colab": {}
      },
      "source": [
        "from google.colab import auth\n",
        "auth.authenticate_user()"
      ],
      "execution_count": 0,
      "outputs": []
    },
    {
      "cell_type": "markdown",
      "metadata": {
        "id": "UgX0r9DGDWf7",
        "colab_type": "text"
      },
      "source": [
        "자주 끊기므로 이 액션을 반복해야함.ㅜㅜ"
      ]
    },
    {
      "cell_type": "code",
      "metadata": {
        "id": "lvK0un6_C3Yg",
        "colab_type": "code",
        "outputId": "75fe3cc8-7275-4250-bdf1-a06acf36e762",
        "colab": {
          "base_uri": "https://localhost:8080/",
          "height": 122
        }
      },
      "source": [
        "from google.colab import drive\n",
        "drive.mount('/content/gdrive')"
      ],
      "execution_count": 3,
      "outputs": [
        {
          "output_type": "stream",
          "text": [
            "Go to this URL in a browser: https://accounts.google.com/o/oauth2/auth?client_id=947318989803-6bn6qk8qdgf4n4g3pfee6491hc0brc4i.apps.googleusercontent.com&redirect_uri=urn%3Aietf%3Awg%3Aoauth%3A2.0%3Aoob&scope=email%20https%3A%2F%2Fwww.googleapis.com%2Fauth%2Fdocs.test%20https%3A%2F%2Fwww.googleapis.com%2Fauth%2Fdrive%20https%3A%2F%2Fwww.googleapis.com%2Fauth%2Fdrive.photos.readonly%20https%3A%2F%2Fwww.googleapis.com%2Fauth%2Fpeopleapi.readonly&response_type=code\n",
            "\n",
            "Enter your authorization code:\n",
            "··········\n",
            "Mounted at /content/gdrive\n"
          ],
          "name": "stdout"
        }
      ]
    },
    {
      "cell_type": "code",
      "metadata": {
        "id": "GjpHxvYPDSo2",
        "colab_type": "code",
        "outputId": "f7f2cee9-d074-4e84-b2c4-e0771a5e2d8a",
        "colab": {
          "base_uri": "https://localhost:8080/",
          "height": 442
        }
      },
      "source": [
        "!pip install regressors"
      ],
      "execution_count": 5,
      "outputs": [
        {
          "output_type": "stream",
          "text": [
            "Collecting regressors\n",
            "  Downloading https://files.pythonhosted.org/packages/80/5d/bacfcf2b3865305156e2507ed9a968cb6c7f326cad1d1720e60f80d02797/regressors-0.0.3.tar.gz\n",
            "Requirement already satisfied: numpy>=1.6.1 in /usr/local/lib/python3.6/dist-packages (from regressors) (1.16.5)\n",
            "Requirement already satisfied: scipy>=0.9 in /usr/local/lib/python3.6/dist-packages (from regressors) (1.3.1)\n",
            "Requirement already satisfied: matplotlib in /usr/local/lib/python3.6/dist-packages (from regressors) (3.0.3)\n",
            "Requirement already satisfied: scikit-learn>=0.17 in /usr/local/lib/python3.6/dist-packages (from regressors) (0.21.3)\n",
            "Requirement already satisfied: statsmodels>=0.6.1 in /usr/local/lib/python3.6/dist-packages (from regressors) (0.10.1)\n",
            "Requirement already satisfied: seaborn in /usr/local/lib/python3.6/dist-packages (from regressors) (0.9.0)\n",
            "Requirement already satisfied: pandas in /usr/local/lib/python3.6/dist-packages (from regressors) (0.24.2)\n",
            "Requirement already satisfied: pyparsing!=2.0.4,!=2.1.2,!=2.1.6,>=2.0.1 in /usr/local/lib/python3.6/dist-packages (from matplotlib->regressors) (2.4.2)\n",
            "Requirement already satisfied: kiwisolver>=1.0.1 in /usr/local/lib/python3.6/dist-packages (from matplotlib->regressors) (1.1.0)\n",
            "Requirement already satisfied: python-dateutil>=2.1 in /usr/local/lib/python3.6/dist-packages (from matplotlib->regressors) (2.5.3)\n",
            "Requirement already satisfied: cycler>=0.10 in /usr/local/lib/python3.6/dist-packages (from matplotlib->regressors) (0.10.0)\n",
            "Requirement already satisfied: joblib>=0.11 in /usr/local/lib/python3.6/dist-packages (from scikit-learn>=0.17->regressors) (0.13.2)\n",
            "Requirement already satisfied: patsy>=0.4.0 in /usr/local/lib/python3.6/dist-packages (from statsmodels>=0.6.1->regressors) (0.5.1)\n",
            "Requirement already satisfied: pytz>=2011k in /usr/local/lib/python3.6/dist-packages (from pandas->regressors) (2018.9)\n",
            "Requirement already satisfied: setuptools in /usr/local/lib/python3.6/dist-packages (from kiwisolver>=1.0.1->matplotlib->regressors) (41.2.0)\n",
            "Requirement already satisfied: six>=1.5 in /usr/local/lib/python3.6/dist-packages (from python-dateutil>=2.1->matplotlib->regressors) (1.12.0)\n",
            "Building wheels for collected packages: regressors\n",
            "  Building wheel for regressors (setup.py) ... \u001b[?25l\u001b[?25hdone\n",
            "  Created wheel for regressors: filename=regressors-0.0.3-py2.py3-none-any.whl size=12375 sha256=199e2cc018c6920be9a1cdb9e28cdc3258651434457dcefbbbe902a67d5ffd54\n",
            "  Stored in directory: /root/.cache/pip/wheels/b2/89/fc/7867f77234d0033395f7ad9814f245b337139acaa06b085aa2\n",
            "Successfully built regressors\n",
            "Installing collected packages: regressors\n",
            "Successfully installed regressors-0.0.3\n"
          ],
          "name": "stdout"
        }
      ]
    },
    {
      "cell_type": "code",
      "metadata": {
        "id": "bfbdqq-xPbTW",
        "colab_type": "code",
        "outputId": "9fe63ddb-92e1-49ea-885a-0ca9328df4c1",
        "colab": {
          "base_uri": "https://localhost:8080/",
          "height": 306
        }
      },
      "source": [
        "!pip install regressors"
      ],
      "execution_count": 6,
      "outputs": [
        {
          "output_type": "stream",
          "text": [
            "Requirement already satisfied: regressors in /usr/local/lib/python3.6/dist-packages (0.0.3)\n",
            "Requirement already satisfied: scikit-learn>=0.17 in /usr/local/lib/python3.6/dist-packages (from regressors) (0.21.3)\n",
            "Requirement already satisfied: matplotlib in /usr/local/lib/python3.6/dist-packages (from regressors) (3.0.3)\n",
            "Requirement already satisfied: seaborn in /usr/local/lib/python3.6/dist-packages (from regressors) (0.9.0)\n",
            "Requirement already satisfied: statsmodels>=0.6.1 in /usr/local/lib/python3.6/dist-packages (from regressors) (0.10.1)\n",
            "Requirement already satisfied: pandas in /usr/local/lib/python3.6/dist-packages (from regressors) (0.24.2)\n",
            "Requirement already satisfied: numpy>=1.6.1 in /usr/local/lib/python3.6/dist-packages (from regressors) (1.16.5)\n",
            "Requirement already satisfied: scipy>=0.9 in /usr/local/lib/python3.6/dist-packages (from regressors) (1.3.1)\n",
            "Requirement already satisfied: joblib>=0.11 in /usr/local/lib/python3.6/dist-packages (from scikit-learn>=0.17->regressors) (0.13.2)\n",
            "Requirement already satisfied: python-dateutil>=2.1 in /usr/local/lib/python3.6/dist-packages (from matplotlib->regressors) (2.5.3)\n",
            "Requirement already satisfied: kiwisolver>=1.0.1 in /usr/local/lib/python3.6/dist-packages (from matplotlib->regressors) (1.1.0)\n",
            "Requirement already satisfied: pyparsing!=2.0.4,!=2.1.2,!=2.1.6,>=2.0.1 in /usr/local/lib/python3.6/dist-packages (from matplotlib->regressors) (2.4.2)\n",
            "Requirement already satisfied: cycler>=0.10 in /usr/local/lib/python3.6/dist-packages (from matplotlib->regressors) (0.10.0)\n",
            "Requirement already satisfied: patsy>=0.4.0 in /usr/local/lib/python3.6/dist-packages (from statsmodels>=0.6.1->regressors) (0.5.1)\n",
            "Requirement already satisfied: pytz>=2011k in /usr/local/lib/python3.6/dist-packages (from pandas->regressors) (2018.9)\n",
            "Requirement already satisfied: six>=1.5 in /usr/local/lib/python3.6/dist-packages (from python-dateutil>=2.1->matplotlib->regressors) (1.12.0)\n",
            "Requirement already satisfied: setuptools in /usr/local/lib/python3.6/dist-packages (from kiwisolver>=1.0.1->matplotlib->regressors) (41.2.0)\n"
          ],
          "name": "stdout"
        }
      ]
    },
    {
      "cell_type": "code",
      "metadata": {
        "id": "_Sm8sGM3PKY7",
        "colab_type": "code",
        "colab": {}
      },
      "source": [
        "import pandas as pd\n",
        "import numpy as np\n",
        "import os\n",
        "import statsmodels.api as sm\n",
        "\n",
        "\n",
        "from sklearn import linear_model\n",
        "from itertools import cycle, islice\n",
        "from regressors import stats\n",
        "from toolz import *\n",
        "from matplotlib import pyplot as plt\n",
        "from IPython.display import display, HTML\n",
        "from google.colab import auth\n",
        "from google.cloud import bigquery\n",
        "\n",
        "try:\n",
        "  # %tensorflow_version only exists in Colab.\n",
        "  %tensorflow_version 2.x\n",
        "except Exception:\n",
        "  pass\n",
        "import tensorflow as tf"
      ],
      "execution_count": 0,
      "outputs": []
    },
    {
      "cell_type": "code",
      "metadata": {
        "id": "SQYB54jKPgjq",
        "colab_type": "code",
        "colab": {}
      },
      "source": [
        "auth.authenticate_user()"
      ],
      "execution_count": 0,
      "outputs": []
    },
    {
      "cell_type": "code",
      "metadata": {
        "id": "pn3U5CppPjlP",
        "colab_type": "code",
        "colab": {}
      },
      "source": [
        "project_id= \"kor-data\" #\n",
        "os.environ[\"GOOGLE_CLOUD_PROJECT\"] = project_id"
      ],
      "execution_count": 0,
      "outputs": []
    },
    {
      "cell_type": "code",
      "metadata": {
        "id": "bB-S64QZPoeo",
        "colab_type": "code",
        "colab": {}
      },
      "source": [
        "\n",
        "# a wrapper function that presets some configs\n",
        "def run_query(query):\n",
        "    return pd.io.gbq.read_gbq(query, \n",
        "                              dialect=\"legacy\",\n",
        "                              project_id     = project_id,\n",
        "                              configuration = {'query':{'useLegacySql': False}})"
      ],
      "execution_count": 0,
      "outputs": []
    },
    {
      "cell_type": "code",
      "metadata": {
        "id": "0m1XJB7-Pr47",
        "colab_type": "code",
        "outputId": "ea1529be-e78f-47f6-8a08-d30500bcf9e8",
        "colab": {
          "base_uri": "https://localhost:8080/",
          "height": 142
        }
      },
      "source": [
        "df = run_query(\n",
        "   \"\"\"\n",
        "    select * \n",
        "\n",
        "    from `{db}.patients` \n",
        "    \n",
        "    where \n",
        "        subject_id = 10006 OR\n",
        "        subject_id = 10040 OR\n",
        "        subject_id = 10111\n",
        "    \"\"\"\\\n",
        "    .format(db = \"physionet-data.mimiciii_demo\"))\n",
        "\n",
        "df.head()"
      ],
      "execution_count": 0,
      "outputs": [
        {
          "output_type": "execute_result",
          "data": {
            "text/html": [
              "<div>\n",
              "<style scoped>\n",
              "    .dataframe tbody tr th:only-of-type {\n",
              "        vertical-align: middle;\n",
              "    }\n",
              "\n",
              "    .dataframe tbody tr th {\n",
              "        vertical-align: top;\n",
              "    }\n",
              "\n",
              "    .dataframe thead th {\n",
              "        text-align: right;\n",
              "    }\n",
              "</style>\n",
              "<table border=\"1\" class=\"dataframe\">\n",
              "  <thead>\n",
              "    <tr style=\"text-align: right;\">\n",
              "      <th></th>\n",
              "      <th>ROW_ID</th>\n",
              "      <th>SUBJECT_ID</th>\n",
              "      <th>GENDER</th>\n",
              "      <th>DOB</th>\n",
              "      <th>DOD</th>\n",
              "      <th>DOD_HOSP</th>\n",
              "      <th>DOD_SSN</th>\n",
              "      <th>EXPIRE_FLAG</th>\n",
              "    </tr>\n",
              "  </thead>\n",
              "  <tbody>\n",
              "    <tr>\n",
              "      <th>0</th>\n",
              "      <td>9467</td>\n",
              "      <td>10006</td>\n",
              "      <td>F</td>\n",
              "      <td>2094-03-05</td>\n",
              "      <td>2165-08-12</td>\n",
              "      <td>2165-08-12</td>\n",
              "      <td>2165-08-12</td>\n",
              "      <td>1</td>\n",
              "    </tr>\n",
              "    <tr>\n",
              "      <th>1</th>\n",
              "      <td>9499</td>\n",
              "      <td>10040</td>\n",
              "      <td>F</td>\n",
              "      <td>2061-10-23</td>\n",
              "      <td>2150-09-05</td>\n",
              "      <td>2150-09-05</td>\n",
              "      <td>2150-09-05</td>\n",
              "      <td>1</td>\n",
              "    </tr>\n",
              "    <tr>\n",
              "      <th>2</th>\n",
              "      <td>9566</td>\n",
              "      <td>10111</td>\n",
              "      <td>F</td>\n",
              "      <td>2097-01-16</td>\n",
              "      <td>2180-02-01</td>\n",
              "      <td>2180-02-01</td>\n",
              "      <td>2180-02-01</td>\n",
              "      <td>1</td>\n",
              "    </tr>\n",
              "  </tbody>\n",
              "</table>\n",
              "</div>"
            ],
            "text/plain": [
              "   ROW_ID  SUBJECT_ID GENDER  ...   DOD_HOSP    DOD_SSN EXPIRE_FLAG\n",
              "0    9467       10006      F  ... 2165-08-12 2165-08-12           1\n",
              "1    9499       10040      F  ... 2150-09-05 2150-09-05           1\n",
              "2    9566       10111      F  ... 2180-02-01 2180-02-01           1\n",
              "\n",
              "[3 rows x 8 columns]"
            ]
          },
          "metadata": {
            "tags": []
          },
          "execution_count": 14
        }
      ]
    },
    {
      "cell_type": "code",
      "metadata": {
        "id": "a2r1Yne-P3cG",
        "colab_type": "code",
        "outputId": "0e4b511b-7e4d-44ea-8a4d-8ab434c2cd3b",
        "colab": {
          "base_uri": "https://localhost:8080/",
          "height": 68
        }
      },
      "source": [
        "df_1 = run_query(\n",
        "    \"\"\"\n",
        "    select p.subject_id, a.hadm_id, icustay_id, dob, admittime, dischtime, intime, outtime, ethnicity, gender\n",
        "\n",
        "    from `{db}.patients` p, `{db}.admissions` a, `{db}.icustays` i\n",
        "\n",
        "    where p.subject_id = a.subject_id AND \n",
        "          a.hadm_id    = i.hadm_id\n",
        "    \"\"\"\\\n",
        "    .format(db = \"physionet-data.mimiciii_demo\"))\n",
        "\n",
        "# or...\n",
        "\n",
        "\n",
        "df_2 = run_query(\n",
        "    \"\"\" \n",
        "    select p.subject_id, a.hadm_id, icustay_id, dob, admittime, dischtime, intime, outtime, ethnicity, gender  \n",
        "    from `{db}.patients` p\n",
        "    inner join `{db}.admissions` a USING (subject_id)\n",
        "    inner join `{db}.icustays` i USING (hadm_id)\n",
        "    \"\"\"\\\n",
        "    .format(db = \"physionet-data.mimiciii_demo\")\n",
        ")\n",
        "\n",
        "\n",
        "def is_same(df_1, df_2):\n",
        "    if all(df_1 == df_2): return \"the two dfs are equal\"\n",
        "    else: return \"the two dfs are not equal\"\n",
        "      \n",
        "print(is_same(df_1, df_2))\n",
        "print(\"\\n\")"
      ],
      "execution_count": 0,
      "outputs": [
        {
          "output_type": "stream",
          "text": [
            "the two dfs are equal\n",
            "\n",
            "\n"
          ],
          "name": "stdout"
        }
      ]
    },
    {
      "cell_type": "code",
      "metadata": {
        "id": "uY7mje6PQx-l",
        "colab_type": "code",
        "outputId": "810a29f1-7dbe-4027-f998-6da3f8a33f32",
        "colab": {
          "base_uri": "https://localhost:8080/",
          "height": 204
        }
      },
      "source": [
        "\n",
        "##1\n",
        "df = run_query(\"\"\"\n",
        "    select icustay_id, max(valuenum) as HeartRate_Max\n",
        "    from `{db}.chartevents`\n",
        "    where itemid in (\n",
        "    \n",
        "        select itemid\n",
        "        from `{db}.d_items`\n",
        "        where lower(label) = 'heart rate'\n",
        "                    )\n",
        "    group by icustay_id\n",
        "      \"\"\"\\\n",
        "    .format(db = \"physionet-data.mimiciii_demo\"))\n",
        "df.head()"
      ],
      "execution_count": 0,
      "outputs": [
        {
          "output_type": "execute_result",
          "data": {
            "text/html": [
              "<div>\n",
              "<style scoped>\n",
              "    .dataframe tbody tr th:only-of-type {\n",
              "        vertical-align: middle;\n",
              "    }\n",
              "\n",
              "    .dataframe tbody tr th {\n",
              "        vertical-align: top;\n",
              "    }\n",
              "\n",
              "    .dataframe thead th {\n",
              "        text-align: right;\n",
              "    }\n",
              "</style>\n",
              "<table border=\"1\" class=\"dataframe\">\n",
              "  <thead>\n",
              "    <tr style=\"text-align: right;\">\n",
              "      <th></th>\n",
              "      <th>icustay_id</th>\n",
              "      <th>HeartRate_Max</th>\n",
              "    </tr>\n",
              "  </thead>\n",
              "  <tbody>\n",
              "    <tr>\n",
              "      <th>0</th>\n",
              "      <td>279554</td>\n",
              "      <td>99.0</td>\n",
              "    </tr>\n",
              "    <tr>\n",
              "      <th>1</th>\n",
              "      <td>226055</td>\n",
              "      <td>129.0</td>\n",
              "    </tr>\n",
              "    <tr>\n",
              "      <th>2</th>\n",
              "      <td>281609</td>\n",
              "      <td>144.0</td>\n",
              "    </tr>\n",
              "    <tr>\n",
              "      <th>3</th>\n",
              "      <td>262670</td>\n",
              "      <td>181.0</td>\n",
              "    </tr>\n",
              "    <tr>\n",
              "      <th>4</th>\n",
              "      <td>282640</td>\n",
              "      <td>101.0</td>\n",
              "    </tr>\n",
              "  </tbody>\n",
              "</table>\n",
              "</div>"
            ],
            "text/plain": [
              "   icustay_id  HeartRate_Max\n",
              "0      279554           99.0\n",
              "1      226055          129.0\n",
              "2      281609          144.0\n",
              "3      262670          181.0\n",
              "4      282640          101.0"
            ]
          },
          "metadata": {
            "tags": []
          },
          "execution_count": 16
        }
      ]
    },
    {
      "cell_type": "code",
      "metadata": {
        "id": "Wu0w2Xf_RhiO",
        "colab_type": "code",
        "outputId": "3bd3d028-8f97-4ca4-fc1e-61ec3478102f",
        "colab": {
          "base_uri": "https://localhost:8080/",
          "height": 204
        }
      },
      "source": [
        "\n",
        "##2 \n",
        "df = run_query(\"\"\"\n",
        "    select icustay_id, max(valuenum) as HeartRate_Max\n",
        "    from `{db}.chartevents`\n",
        "    where itemid in (\n",
        "    \n",
        "        select itemid\n",
        "        from `{db}.d_items`\n",
        "        where lower(label) = 'heart rate'\n",
        "                    )\n",
        "    group by icustay_id\n",
        "        having HeartRate_Max <= 140\n",
        "      \"\"\"\\\n",
        "    .format(db = \"physionet-data.mimiciii_demo\"))\n",
        "df.head()"
      ],
      "execution_count": 0,
      "outputs": [
        {
          "output_type": "execute_result",
          "data": {
            "text/html": [
              "<div>\n",
              "<style scoped>\n",
              "    .dataframe tbody tr th:only-of-type {\n",
              "        vertical-align: middle;\n",
              "    }\n",
              "\n",
              "    .dataframe tbody tr th {\n",
              "        vertical-align: top;\n",
              "    }\n",
              "\n",
              "    .dataframe thead th {\n",
              "        text-align: right;\n",
              "    }\n",
              "</style>\n",
              "<table border=\"1\" class=\"dataframe\">\n",
              "  <thead>\n",
              "    <tr style=\"text-align: right;\">\n",
              "      <th></th>\n",
              "      <th>icustay_id</th>\n",
              "      <th>HeartRate_Max</th>\n",
              "    </tr>\n",
              "  </thead>\n",
              "  <tbody>\n",
              "    <tr>\n",
              "      <th>0</th>\n",
              "      <td>279554</td>\n",
              "      <td>99.0</td>\n",
              "    </tr>\n",
              "    <tr>\n",
              "      <th>1</th>\n",
              "      <td>226055</td>\n",
              "      <td>129.0</td>\n",
              "    </tr>\n",
              "    <tr>\n",
              "      <th>2</th>\n",
              "      <td>282640</td>\n",
              "      <td>101.0</td>\n",
              "    </tr>\n",
              "    <tr>\n",
              "      <th>3</th>\n",
              "      <td>244243</td>\n",
              "      <td>109.0</td>\n",
              "    </tr>\n",
              "    <tr>\n",
              "      <th>4</th>\n",
              "      <td>205589</td>\n",
              "      <td>98.0</td>\n",
              "    </tr>\n",
              "  </tbody>\n",
              "</table>\n",
              "</div>"
            ],
            "text/plain": [
              "   icustay_id  HeartRate_Max\n",
              "0      279554           99.0\n",
              "1      226055          129.0\n",
              "2      282640          101.0\n",
              "3      244243          109.0\n",
              "4      205589           98.0"
            ]
          },
          "metadata": {
            "tags": []
          },
          "execution_count": 17
        }
      ]
    },
    {
      "cell_type": "code",
      "metadata": {
        "id": "geSmmCscRnZh",
        "colab_type": "code",
        "outputId": "f5b84a4b-9826-4d90-a944-242a636a69fe",
        "colab": {
          "base_uri": "https://localhost:8080/",
          "height": 204
        }
      },
      "source": [
        "df = run_query(\"\"\"\n",
        "\n",
        "     -- first_hadm_id table will store subject_id, hadm_id of patient's first visit.\n",
        "    with first_hadm_id as (\n",
        "    \n",
        "      select subject_id, hadm_id\n",
        "      from(\n",
        "        select subject_id, hadm_id, row_number() over (partition by subject_id order by admittime asc) row_num\n",
        "        from `{db}.admissions` \n",
        "        ) t  \n",
        "      where row_num = 1 \n",
        "      ),\n",
        "      \n",
        "    -- modified_age if age < 91.5 then age else 91.5\n",
        "    modified_age as \n",
        "    (\n",
        "        select subject_id, hadm_id, \n",
        "            case \n",
        "            when date_diff(cast(admittime as date),cast(dob as date),day)/365 < 91.5\n",
        "                then date_diff(cast(admittime as date),cast(dob as date),day)/365\n",
        "            else 91.5\n",
        "            end as age \n",
        "        from `{db}.admissions` a \n",
        "        left join `{db}.patients` p\n",
        "          using (subject_id)\n",
        "    ),\n",
        "    \n",
        "    -- get primary diagnosis of each patient visit.\n",
        "    primary_diag as\n",
        "    (\n",
        "        select subject_id, hadm_id,\n",
        "          (select d_d.short_title\n",
        "           from `{db}.d_icd_diagnoses` d_d\n",
        "           where d_d.icd9_code = d.icd9_code\n",
        "          ) as diagnosis\n",
        "          \n",
        "        from `{db}.diagnoses_icd` d\n",
        "        where seq_num = 1\n",
        "    )\n",
        "    \n",
        "    -- merge all sub queries with columns (subject_id, hadm_id, modified_age,primary_diag)    \n",
        "    select first_hadm_id.*, age, diagnosis\n",
        "    from primary_diag\n",
        "    left join modified_age using(subject_id, hadm_id)\n",
        "    left join first_hadm_id using(subject_id, hadm_id)\n",
        "    \n",
        "\"\"\"\\\n",
        ".format(db = \"physionet-data.mimiciii_demo\"))\n",
        "\n",
        "df.head()"
      ],
      "execution_count": 0,
      "outputs": [
        {
          "output_type": "execute_result",
          "data": {
            "text/html": [
              "<div>\n",
              "<style scoped>\n",
              "    .dataframe tbody tr th:only-of-type {\n",
              "        vertical-align: middle;\n",
              "    }\n",
              "\n",
              "    .dataframe tbody tr th {\n",
              "        vertical-align: top;\n",
              "    }\n",
              "\n",
              "    .dataframe thead th {\n",
              "        text-align: right;\n",
              "    }\n",
              "</style>\n",
              "<table border=\"1\" class=\"dataframe\">\n",
              "  <thead>\n",
              "    <tr style=\"text-align: right;\">\n",
              "      <th></th>\n",
              "      <th>subject_id</th>\n",
              "      <th>hadm_id</th>\n",
              "      <th>age</th>\n",
              "      <th>diagnosis</th>\n",
              "    </tr>\n",
              "  </thead>\n",
              "  <tbody>\n",
              "    <tr>\n",
              "      <th>0</th>\n",
              "      <td>43779</td>\n",
              "      <td>186071</td>\n",
              "      <td>76.936986</td>\n",
              "      <td>Subdural hem w/o coma</td>\n",
              "    </tr>\n",
              "    <tr>\n",
              "      <th>1</th>\n",
              "      <td>40456</td>\n",
              "      <td>161765</td>\n",
              "      <td>87.208219</td>\n",
              "      <td>Ac on chr syst hrt fail</td>\n",
              "    </tr>\n",
              "    <tr>\n",
              "      <th>2</th>\n",
              "      <td>40204</td>\n",
              "      <td>175237</td>\n",
              "      <td>76.380822</td>\n",
              "      <td>Urin tract infection NOS</td>\n",
              "    </tr>\n",
              "    <tr>\n",
              "      <th>3</th>\n",
              "      <td>10006</td>\n",
              "      <td>142345</td>\n",
              "      <td>70.682192</td>\n",
              "      <td>Sepsis</td>\n",
              "    </tr>\n",
              "    <tr>\n",
              "      <th>4</th>\n",
              "      <td>43798</td>\n",
              "      <td>130870</td>\n",
              "      <td>61.958904</td>\n",
              "      <td>Mal neo stomach cardia</td>\n",
              "    </tr>\n",
              "  </tbody>\n",
              "</table>\n",
              "</div>"
            ],
            "text/plain": [
              "  subject_id hadm_id        age                 diagnosis\n",
              "0      43779  186071  76.936986     Subdural hem w/o coma\n",
              "1      40456  161765  87.208219   Ac on chr syst hrt fail\n",
              "2      40204  175237  76.380822  Urin tract infection NOS\n",
              "3      10006  142345  70.682192                    Sepsis\n",
              "4      43798  130870  61.958904    Mal neo stomach cardia"
            ]
          },
          "metadata": {
            "tags": []
          },
          "execution_count": 18
        }
      ]
    },
    {
      "cell_type": "code",
      "metadata": {
        "id": "2l4SzXIIR1ud",
        "colab_type": "code",
        "colab": {}
      },
      "source": [
        "# Lets create a dictionary object to store queries of each.\n",
        "queries = \\\n",
        "    {\"cohort_demo\" : None, # entire cohort(first admit), age(year), gender(M|F).\n",
        "     \"outcome\"     : None, # length of stay(days), length of stay(long|short).\n",
        "     \"diagnosis\"   : None, # number of diagnosis.\n",
        "     \"lab\"         : None, #  White_blood_cell_mean(24H), Hemoglobin_mean(24H)\n",
        "     \"vital\"       : None} #  heart_rate_mean(24H), Temperature_max(24H), Temperature_min(24H)"
      ],
      "execution_count": 0,
      "outputs": []
    },
    {
      "cell_type": "code",
      "metadata": {
        "id": "3GNcU9slSYXv",
        "colab_type": "code",
        "colab": {}
      },
      "source": [
        "queries[\"cohort_demo\"] = \\\n",
        "\"\"\"\n",
        "    -- first_hadm_id table will store subject_id, hadm_id of patient's first visit.\n",
        "    with first_hadm_id as (\n",
        "    \n",
        "      select subject_id, hadm_id\n",
        "      from(\n",
        "        select subject_id, hadm_id, row_number() over (partition by subject_id order by admittime asc) row_num\n",
        "        from `{db}.admissions` \n",
        "        ) t  \n",
        "      where row_num = 1 \n",
        "      ),\n",
        "      \n",
        "    -- modified_age if age < 91.5 then age else 19.5\n",
        "    modified_age as \n",
        "    (\n",
        "        select subject_id, hadm_id, \n",
        "            case \n",
        "            when date_diff(cast(admittime as date),cast(dob as date),day)/365 < 91.5\n",
        "                then date_diff(cast(admittime as date),cast(dob as date),day)/365\n",
        "            else 91.5\n",
        "            end as age \n",
        "        from `{db}.admissions` a \n",
        "        left join `{db}.patients` p\n",
        "          using (subject_id)\n",
        "    ),\n",
        "    \n",
        "    -- gender. if M then 1 else 0 \n",
        "    \n",
        "    gender as \n",
        "    (\n",
        "        select subject_id, \n",
        "            case when gender = 'M' then 1 else 0 end as sex\n",
        "        from `{db}.patients`\n",
        "    )\n",
        "    \n",
        "    -- merge all queries\n",
        "    select first_hadm_id.*, age, sex\n",
        "    from first_hadm_id\n",
        "    left join modified_age using(subject_id, hadm_id)\n",
        "    left join gender using(subject_id)\n",
        "    \n",
        "\"\"\"\\\n",
        ".format(db = \"physionet-data.mimiciii_demo\")"
      ],
      "execution_count": 0,
      "outputs": []
    },
    {
      "cell_type": "code",
      "metadata": {
        "id": "zlqziasTSipa",
        "colab_type": "code",
        "colab": {}
      },
      "source": [
        "queries[\"outcome\"] = \\\n",
        "\"\"\"\n",
        "with length_of_stay as (\n",
        "    select subject_id, hadm_id, icustay_id, \n",
        "        datetime_diff(icu.outtime, icu.intime, hour) AS icu_length_of_stay,\n",
        "        row_number() over (partition by subject_id order by icu.intime asc) row_num\n",
        "    from `{db}.icustays` as icu)\n",
        "    \n",
        "select subject_id, hadm_id, icu_length_of_stay as stay_con, \n",
        "       case \n",
        "       when icu_length_of_stay > 100  then 1\n",
        "       else 0 end as stay_bi\n",
        "from length_of_stay\n",
        "where row_num = 1\n",
        "\"\"\"\\\n",
        ".format(db = \"physionet-data.mimiciii_demo\")"
      ],
      "execution_count": 0,
      "outputs": []
    },
    {
      "cell_type": "code",
      "metadata": {
        "id": "Vkp3XHlKS2kJ",
        "colab_type": "code",
        "colab": {}
      },
      "source": [
        "queries[\"diagnosis\"] = \\\n",
        "\"\"\"\n",
        "select hadm_id, count(icd9_code) as n_diag\n",
        "from `{db}.diagnoses_icd`\n",
        "group by hadm_id\n",
        "\"\"\"\\\n",
        ".format(db = \"physionet-data.mimiciii_demo\")"
      ],
      "execution_count": 0,
      "outputs": []
    },
    {
      "cell_type": "code",
      "metadata": {
        "id": "MjT-FcJVTDxn",
        "colab_type": "code",
        "colab": {}
      },
      "source": [
        "queries[\"lab\"] = \\\n",
        "\"\"\"\n",
        "with lab_tests as (\n",
        "    select hadm_id, charttime, value, valuenum,\n",
        "           case when itemid in (50811,51222) then 'hemoglobin'\n",
        "                when itemid in (50822,50971) then 'potassium'\n",
        "                else null end as label                     \n",
        "    from `{db}.labevents`),\n",
        "    \n",
        "lab_tests_prune as (\n",
        "    select subject_id, hadm_id, icustay_id, label, valuenum, charttime \n",
        "    from `{db}.icustays` \n",
        "    left join lab_tests lab using (hadm_id)\n",
        "    where charttime between intime and datetime_add(intime,interval 1 day)\n",
        "          and label is not null\n",
        "          and valuenum is not null\n",
        "          and valuenum > 0)\n",
        "\n",
        "select hadm_id, icustay_id,\n",
        "   avg(case when label = 'hemoglobin' then  valuenum else null end) as hemoglobin_avg,\n",
        "   avg(case when label = 'potassium'  then  valuenum else null end) as troponin_avg\n",
        "from lab_tests_prune\n",
        "group by hadm_id, icustay_id\n",
        "\"\"\"\\\n",
        ".format(db = \"physionet-data.mimiciii_demo\")"
      ],
      "execution_count": 0,
      "outputs": []
    },
    {
      "cell_type": "markdown",
      "metadata": {
        "id": "-zfs94MMUlcW",
        "colab_type": "text"
      },
      "source": [
        "24시간 전까지의 데이터가 더 신빙성이 있음"
      ]
    },
    {
      "cell_type": "code",
      "metadata": {
        "id": "-7uUqATpTJVu",
        "colab_type": "code",
        "colab": {}
      },
      "source": [
        "queries[\"vital\"] = \\\n",
        "\"\"\"\n",
        "with vital_tests as (\n",
        "    select hadm_id, charttime, value, valuenum,\n",
        "           case when itemid in (223762,676,223761,678) then 'temperature'\n",
        "                when itemid in (211,220045) then 'blood_pressure'\n",
        "                else null end as label                     \n",
        "    from `{db}.chartevents`),\n",
        "    \n",
        "vital_tests_prune as (\n",
        "    select subject_id, hadm_id, icustay_id, label, valuenum, charttime \n",
        "    from `{db}.icustays` \n",
        "    left join vital_tests lab using (hadm_id)\n",
        "    where charttime between intime and datetime_add(intime,interval 1 day)\n",
        "          and label is not null\n",
        "          and valuenum is not null\n",
        "          and valuenum > 0)\n",
        "\n",
        "select hadm_id, icustay_id,\n",
        "   max(case when label = 'temperature' then  valuenum else null end) as temperature_max,\n",
        "   min(case when label = 'temperature' then  valuenum else null end) as temperature_min,\n",
        "   avg(case when label = 'blood_pressure' then   valuenum else null end) as blood_pressure_mean\n",
        "from vital_tests_prune\n",
        "group by hadm_id, icustay_id\n",
        "\"\"\"\\\n",
        ".format(db = \"physionet-data.mimiciii_demo\")"
      ],
      "execution_count": 0,
      "outputs": []
    },
    {
      "cell_type": "code",
      "metadata": {
        "id": "5Y-ffpvfTMkd",
        "colab_type": "code",
        "colab": {}
      },
      "source": [
        "tables = map(run_query, queries.values())\n",
        "df = reduce(lambda x,y : pd.merge(x,y), tables)"
      ],
      "execution_count": 0,
      "outputs": []
    },
    {
      "cell_type": "code",
      "metadata": {
        "id": "cGTo7ey-UUPz",
        "colab_type": "code",
        "outputId": "fb226655-7bf2-476b-ecc2-bcfe1c583653",
        "colab": {
          "base_uri": "https://localhost:8080/",
          "height": 224
        }
      },
      "source": [
        "df.head()"
      ],
      "execution_count": 0,
      "outputs": [
        {
          "output_type": "execute_result",
          "data": {
            "text/html": [
              "<div>\n",
              "<style scoped>\n",
              "    .dataframe tbody tr th:only-of-type {\n",
              "        vertical-align: middle;\n",
              "    }\n",
              "\n",
              "    .dataframe tbody tr th {\n",
              "        vertical-align: top;\n",
              "    }\n",
              "\n",
              "    .dataframe thead th {\n",
              "        text-align: right;\n",
              "    }\n",
              "</style>\n",
              "<table border=\"1\" class=\"dataframe\">\n",
              "  <thead>\n",
              "    <tr style=\"text-align: right;\">\n",
              "      <th></th>\n",
              "      <th>subject_id</th>\n",
              "      <th>hadm_id</th>\n",
              "      <th>age</th>\n",
              "      <th>sex</th>\n",
              "      <th>stay_con</th>\n",
              "      <th>stay_bi</th>\n",
              "      <th>n_diag</th>\n",
              "      <th>icustay_id</th>\n",
              "      <th>hemoglobin_avg</th>\n",
              "      <th>troponin_avg</th>\n",
              "      <th>temperature_max</th>\n",
              "      <th>temperature_min</th>\n",
              "      <th>blood_pressure_mean</th>\n",
              "    </tr>\n",
              "  </thead>\n",
              "  <tbody>\n",
              "    <tr>\n",
              "      <th>0</th>\n",
              "      <td>10006</td>\n",
              "      <td>142345</td>\n",
              "      <td>70.682192</td>\n",
              "      <td>0</td>\n",
              "      <td>39</td>\n",
              "      <td>0</td>\n",
              "      <td>21</td>\n",
              "      <td>206504</td>\n",
              "      <td>11.70</td>\n",
              "      <td>4.400</td>\n",
              "      <td>99.599998</td>\n",
              "      <td>97.500000</td>\n",
              "      <td>86.062500</td>\n",
              "    </tr>\n",
              "    <tr>\n",
              "      <th>1</th>\n",
              "      <td>10011</td>\n",
              "      <td>105331</td>\n",
              "      <td>36.213699</td>\n",
              "      <td>0</td>\n",
              "      <td>332</td>\n",
              "      <td>1</td>\n",
              "      <td>6</td>\n",
              "      <td>232110</td>\n",
              "      <td>11.60</td>\n",
              "      <td>5.900</td>\n",
              "      <td>98.699997</td>\n",
              "      <td>97.199997</td>\n",
              "      <td>86.958333</td>\n",
              "    </tr>\n",
              "    <tr>\n",
              "      <th>2</th>\n",
              "      <td>10013</td>\n",
              "      <td>165520</td>\n",
              "      <td>87.142466</td>\n",
              "      <td>0</td>\n",
              "      <td>64</td>\n",
              "      <td>0</td>\n",
              "      <td>9</td>\n",
              "      <td>264446</td>\n",
              "      <td>8.90</td>\n",
              "      <td>4.150</td>\n",
              "      <td>38.500000</td>\n",
              "      <td>36.799999</td>\n",
              "      <td>98.725000</td>\n",
              "    </tr>\n",
              "    <tr>\n",
              "      <th>3</th>\n",
              "      <td>10017</td>\n",
              "      <td>199207</td>\n",
              "      <td>73.726027</td>\n",
              "      <td>0</td>\n",
              "      <td>52</td>\n",
              "      <td>0</td>\n",
              "      <td>14</td>\n",
              "      <td>204881</td>\n",
              "      <td>10.10</td>\n",
              "      <td>3.000</td>\n",
              "      <td>97.400002</td>\n",
              "      <td>95.000000</td>\n",
              "      <td>95.227273</td>\n",
              "    </tr>\n",
              "    <tr>\n",
              "      <th>4</th>\n",
              "      <td>10019</td>\n",
              "      <td>177759</td>\n",
              "      <td>48.931507</td>\n",
              "      <td>1</td>\n",
              "      <td>31</td>\n",
              "      <td>0</td>\n",
              "      <td>14</td>\n",
              "      <td>228977</td>\n",
              "      <td>11.85</td>\n",
              "      <td>4.675</td>\n",
              "      <td>97.000000</td>\n",
              "      <td>93.199997</td>\n",
              "      <td>83.547619</td>\n",
              "    </tr>\n",
              "  </tbody>\n",
              "</table>\n",
              "</div>"
            ],
            "text/plain": [
              "   subject_id  hadm_id  ...  temperature_min  blood_pressure_mean\n",
              "0       10006   142345  ...        97.500000            86.062500\n",
              "1       10011   105331  ...        97.199997            86.958333\n",
              "2       10013   165520  ...        36.799999            98.725000\n",
              "3       10017   199207  ...        95.000000            95.227273\n",
              "4       10019   177759  ...        93.199997            83.547619\n",
              "\n",
              "[5 rows x 13 columns]"
            ]
          },
          "metadata": {
            "tags": []
          },
          "execution_count": 31
        }
      ]
    },
    {
      "cell_type": "code",
      "metadata": {
        "id": "DG9Zm_AyU0z6",
        "colab_type": "code",
        "outputId": "d3b958da-6d07-4bbe-9e73-40d8546a2326",
        "colab": {
          "base_uri": "https://localhost:8080/",
          "height": 391
        }
      },
      "source": [
        "# which column contains na?\n",
        "na_columns = \\\n",
        "[(c_name, df[c_name].dtypes)\n",
        "     for c_name \n",
        "     in df.columns\n",
        "     if any(pd.isnull(df[c_name]))]\n",
        "\n",
        "print(na_columns)\n",
        "\n",
        "# maen imputation\n",
        "for na_col in map(lambda x : x[0],na_columns):\n",
        "    df[na_col] = df[na_col].fillna((df[na_col].mean()))\n",
        "    \n",
        "    \n",
        "# select columns of interest\n",
        "X_name = ['hemoglobin_avg',\n",
        "          'n_diag',\n",
        "          'troponin_avg',\n",
        "          'age',\n",
        "          'sex',\n",
        "          'temperature_min',\n",
        "          'blood_pressure_mean',\n",
        "          'temperature_max',]\n",
        "\n",
        "Y_name = \"stay_con\"\n",
        "\n",
        "X = df[X_name]; y = df[Y_name]\n",
        "# Linear regression\n",
        "ols = linear_model.LinearRegression()\n",
        "ols.fit(X,y)\n",
        "\n",
        "# to print summary table:\n",
        "print(\"\\n=========== SUMMARY ===========\")\n",
        "xlabels = X_name\n",
        "stats.summary(ols, X, y, xlabels)"
      ],
      "execution_count": 0,
      "outputs": [
        {
          "output_type": "stream",
          "text": [
            "[('hemoglobin_avg', dtype('float64'))]\n",
            "\n",
            "=========== SUMMARY ===========\n",
            "Residuals:\n",
            "    Min       1Q   Median        3Q       Max\n",
            "-53.243  56.1242  91.3415  145.4183  468.5783\n",
            "\n",
            "\n",
            "Coefficients:\n",
            "                       Estimate  Std. Error  t value   p value\n",
            "_intercept           749.819963  206.394247   3.6329  0.000442\n",
            "hemoglobin_avg         1.903125    8.217309   0.2316  0.817318\n",
            "n_diag                 6.785095    2.077129   3.2666  0.001488\n",
            "troponin_avg         -20.337571   20.272232  -1.0032  0.318151\n",
            "age                   -3.805717    0.666202  -5.7126  0.000000\n",
            "sex                  -55.332615   26.491244  -2.0887  0.039248\n",
            "temperature_min       -1.391955    0.781704  -1.7807  0.077973\n",
            "blood_pressure_mean   -0.399348    0.606331  -0.6586  0.511632\n",
            "temperature_max       -2.068907    0.997843  -2.0734  0.040682\n",
            "---\n",
            "R-squared:  0.31976,    Adjusted R-squared:  0.26125\n",
            "F-statistic: 5.46 on 8 features\n"
          ],
          "name": "stdout"
        }
      ]
    },
    {
      "cell_type": "code",
      "metadata": {
        "id": "meGgn6czVteL",
        "colab_type": "code",
        "outputId": "8a170b09-ef9e-4700-e550-d479ee23a7a0",
        "colab": {
          "base_uri": "https://localhost:8080/",
          "height": 459
        }
      },
      "source": [
        "# select columns of interest\n",
        "X_name = ['hemoglobin_avg',\n",
        "          'n_diag',\n",
        "          'troponin_avg',\n",
        "          'age',\n",
        "          'sex',\n",
        "          'temperature_min',\n",
        "          'blood_pressure_mean',\n",
        "          'temperature_max',]\n",
        "\n",
        "Y_name = \"stay_bi\"\n",
        "\n",
        "X  = df[X_name]; y = df[Y_name]\n",
        "# Linear regression\n",
        "logit = sm.Logit(y,X)\n",
        "# fit the model\n",
        "result = logit.fit()\n",
        "# to print summary table:\n",
        "print(\"\\n=========== SUMMARY ===========\")\n",
        "print(result.summary())"
      ],
      "execution_count": 0,
      "outputs": [
        {
          "output_type": "stream",
          "text": [
            "Optimization terminated successfully.\n",
            "         Current function value: 0.430271\n",
            "         Iterations 6\n",
            "\n",
            "=========== SUMMARY ===========\n",
            "                           Logit Regression Results                           \n",
            "==============================================================================\n",
            "Dep. Variable:                stay_bi   No. Observations:                  102\n",
            "Model:                          Logit   Df Residuals:                       94\n",
            "Method:                           MLE   Df Model:                            7\n",
            "Date:                Sat, 31 Aug 2019   Pseudo R-squ.:                  0.2555\n",
            "Time:                        06:22:31   Log-Likelihood:                -43.888\n",
            "converged:                       True   LL-Null:                       -58.948\n",
            "Covariance Type:            nonrobust   LLR p-value:                 9.023e-05\n",
            "=======================================================================================\n",
            "                          coef    std err          z      P>|z|      [0.025      0.975]\n",
            "---------------------------------------------------------------------------------------\n",
            "hemoglobin_avg         -0.0162      0.175     -0.093      0.926      -0.359       0.327\n",
            "n_diag                  0.1124      0.048      2.361      0.018       0.019       0.206\n",
            "troponin_avg            0.5337      0.413      1.293      0.196      -0.275       1.343\n",
            "age                    -0.0515      0.017     -2.960      0.003      -0.086      -0.017\n",
            "sex                    -1.0885      0.589     -1.847      0.065      -2.244       0.067\n",
            "temperature_min        -0.0686      0.025     -2.693      0.007      -0.119      -0.019\n",
            "blood_pressure_mean    -0.0165      0.016     -1.017      0.309      -0.048       0.015\n",
            "temperature_max         0.0730      0.033      2.237      0.025       0.009       0.137\n",
            "=======================================================================================\n"
          ],
          "name": "stdout"
        }
      ]
    },
    {
      "cell_type": "code",
      "metadata": {
        "id": "wBQ8bX1hV-hJ",
        "colab_type": "code",
        "colab": {}
      },
      "source": [
        "class config():\n",
        "    input_size    = 8  \n",
        "    train_len     = 80    \n",
        "    output_size   = 2 \n",
        "    learning_rate = 10**-5\n",
        "    batch_size    = 2\n",
        "    epoch         = 2\n",
        "    \n",
        "    \n",
        "\"\"\"\n",
        "preprocessing tools\n",
        "\"\"\" \n",
        "set_format       = np.float32\n",
        "normalise        = lambda xs : (xs - np.mean(xs))/np.var(xs)\n",
        "add_random_noise = lambda xs : xs + np.random.normal(0,0.001,len(xs)) \n",
        "\n",
        "preprocess = compose(add_random_noise,normalise,set_format)\n",
        "\n",
        "\"\"\"\n",
        "data control tools\n",
        "\"\"\"\n",
        "data_gen = lambda X : list(map(list,zip(*([X] * config.batch_size))))\n",
        "\n",
        "\"\"\"\n",
        "model\n",
        "\"\"\"\n",
        "model = tf.keras.Sequential([\n",
        "  tf.keras.layers.Dense(12, activation=tf.nn.relu, input_shape=(config.input_size,)),  # input shape required\n",
        "  tf.keras.layers.Dense(24, activation=tf.nn.relu),\n",
        "  tf.keras.layers.Dense(2, activation = tf.nn.sigmoid)\n",
        "])\n",
        "\n",
        "def grad(model, inputs, targets):\n",
        "    with tf.GradientTape() as tape:\n",
        "        loss_value = loss(model, inputs, targets)\n",
        "    return loss_value, tape.gradient(loss_value, model.weights)\n",
        "\n",
        "\n",
        "loss_object = tf.keras.losses.SparseCategoricalCrossentropy(from_logits=True)\n",
        "def loss(model, x, y):\n",
        "    y_ = model(x)\n",
        "    return loss_object(y_true=y, y_pred=y_)\n",
        "\n",
        "optimizer = tf.keras.optimizers.Adam(learning_rate = 0.0001)"
      ],
      "execution_count": 0,
      "outputs": []
    },
    {
      "cell_type": "code",
      "metadata": {
        "id": "VfvuncHhWSbU",
        "colab_type": "code",
        "colab": {}
      },
      "source": [
        "X_val = X.values\n",
        "y_val = y.values\n",
        "\n",
        "X_train, y_train = X_val[:config.train_len], y_val[:config.train_len]\n",
        "X_test,  y_test  = X_val[config.train_len:], y_val[config.train_len:]"
      ],
      "execution_count": 0,
      "outputs": []
    },
    {
      "cell_type": "code",
      "metadata": {
        "id": "2E438GvaWYmj",
        "colab_type": "code",
        "outputId": "32ab36cf-a4b9-4b0b-bf6c-95c5f72bba64",
        "colab": {
          "base_uri": "https://localhost:8080/",
          "height": 173
        }
      },
      "source": [
        "\n",
        "## Note: Rerunning this cell uses the same model variables\n",
        "\n",
        "# Keep results for plotting\n",
        "train_loss_results = []\n",
        "train_accuracy_results = []\n",
        "\n",
        "for epoch in range(config.epoch):\n",
        "\n",
        "    epoch_loss_avg = tf.keras.metrics.Mean()\n",
        "    epoch_accuracy = tf.keras.metrics.SparseCategoricalAccuracy()\n",
        "\n",
        "    # Training loop - using batches of 32\n",
        "    for _x, _y in zip(data_gen(map(preprocess, X_train)),\n",
        "                      data_gen(y_train)):\n",
        "        \n",
        "        x_np = np.array(_x)\n",
        "        y_np = np.array(_y)\n",
        "        \n",
        "        # Optimize the model\n",
        "        loss_value, grads = grad(model, x_np, y_np)\n",
        "        optimizer.apply_gradients(zip(grads, model.trainable_variables))\n",
        "\n",
        "        # Track progress\n",
        "        epoch_loss_avg(loss_value)  # Add current batch loss\n",
        "        # Compare predicted label to actual label\n",
        "        epoch_accuracy(y_np, model(x_np))\n",
        "\n",
        "    # End epoch\n",
        "    train_loss_results.append(epoch_loss_avg.result())\n",
        "    train_accuracy_results.append(epoch_accuracy.result())\n",
        "\n",
        "    if epoch % 1 == 0:\n",
        "      print(\"Epoch {:03d}: Loss: {:.3f}, Accuracy: {:.3%}\".format(epoch,\n",
        "                                                                  epoch_loss_avg.result(),\n",
        "                                                                  epoch_accuracy.result()))"
      ],
      "execution_count": 0,
      "outputs": [
        {
          "output_type": "stream",
          "text": [
            "WARNING:tensorflow:Layer dense_3 is casting an input tensor from dtype float64 to the layer's dtype of float32, which is new behavior in TensorFlow 2.  The layer has dtype float32 because it's dtype defaults to floatx.\n",
            "\n",
            "If you intended to run this layer in float32, you can safely ignore this warning. If in doubt, this warning is likely only an issue if you are porting a TensorFlow 1.X model to TensorFlow 2.\n",
            "\n",
            "To change all layers to have dtype float64 by default, call `tf.keras.backend.set_floatx('float64')`. To change just this layer, pass dtype='float64' to the layer constructor. If you are the author of this layer, you can disable autocasting by passing autocast=False to the base Layer constructor.\n",
            "\n",
            "Epoch 000: Loss: 0.693, Accuracy: 56.250%\n",
            "Epoch 001: Loss: 0.692, Accuracy: 72.500%\n"
          ],
          "name": "stdout"
        }
      ]
    },
    {
      "cell_type": "markdown",
      "metadata": {
        "id": "jlNlxqalWyEh",
        "colab_type": "text"
      },
      "source": [
        "끝"
      ]
    }
  ]
}